{
  "metadata": {
    "language_info": {
      "codemirror_mode": {
        "name": "python",
        "version": 3
      },
      "file_extension": ".py",
      "mimetype": "text/x-python",
      "name": "python",
      "nbconvert_exporter": "python",
      "pygments_lexer": "ipython3",
      "version": "3.8"
    },
    "kernelspec": {
      "name": "python",
      "display_name": "Pyolite",
      "language": "python"
    }
  },
  "nbformat_minor": 4,
  "nbformat": 4,
  "cells": [
    {
      "cell_type": "code",
      "source": "#extract all numerical data \nl = [[1,2,3,4] , (2,3,4,5,6) , (3,4,5,6,7) , set([23,4,5,45,4,4,5,45,45,4,5]) , {'k1' :\"sudh\" , \"k2\" : \"ineuron\",\"k3\": \"kumar\" , 9:6 , 10:8} , [\"ineuron\" , \"data science \"]] \na , b, c, d, e, f = l #unpacking \nl1 = a , b, c, d, e, f\n\nfor i in l1:\n    if type (i) == dict:\n        for u,v in i.items():\n            if type(u) == int:\n                print (u)\n            if type(v) == int:\n                print (v)\n    if type (i) == list or tuple or set: \n        for j in i:\n            if type (j) == int:\n                print (j)",
      "metadata": {
        "trusted": true
      },
      "execution_count": 70,
      "outputs": [
        {
          "name": "stdout",
          "text": "1\n2\n3\n4\n2\n3\n4\n5\n6\n3\n4\n5\n6\n7\n45\n4\n5\n23\n9\n6\n10\n8\n9\n10\n",
          "output_type": "stream"
        }
      ]
    },
    {
      "cell_type": "code",
      "source": "l = [[1,2,3,4] , (2,3,4,5,6) , (3,4,5,6,7) , set([23,4,5,45,4,4,5,45,45,4,5]) , {'k1' :\"sudh\" , \"k2\" : \"ineuron\",\"k3\": \"kumar\" , 3:6 , 7:8} , [\"ineuron\" , \"data science \"]] \na , b, c, d, e, f = l #unpacking \nl1 = a , b, c, d, e, f\n\nfor i in l1:\n    print (i, type (i))",
      "metadata": {
        "trusted": true
      },
      "execution_count": 60,
      "outputs": [
        {
          "name": "stdout",
          "text": "[1, 2, 3, 4] <class 'list'>\n(2, 3, 4, 5, 6) <class 'tuple'>\n(3, 4, 5, 6, 7) <class 'tuple'>\n{45, 4, 5, 23} <class 'set'>\n{'k1': 'sudh', 'k2': 'ineuron', 'k3': 'kumar', 3: 6, 7: 8} <class 'dict'>\n['ineuron', 'data science '] <class 'list'>\n",
          "output_type": "stream"
        }
      ]
    },
    {
      "cell_type": "code",
      "source": "",
      "metadata": {},
      "execution_count": null,
      "outputs": []
    }
  ]
}